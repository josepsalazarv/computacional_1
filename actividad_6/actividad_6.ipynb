{
 "cells": [
  {
   "cell_type": "code",
   "execution_count": 3,
   "metadata": {
    "collapsed": true
   },
   "outputs": [],
   "source": [
    "import numpy as np\n",
    "from scipy.integrate import quad\n",
    "import matplotlib.pyplot as plt\n",
    "\n",
    "#Constantes\n",
    "\n",
    "g=9.81 \n",
    "l= 3  \n",
    "n= 1000\n",
    "e=0.001 \n",
    "T0 =np.linspace(e, (np.pi)-e, n)\n",
    "\n",
    "#Integrales\n",
    "I = [0 for i in range(n)]\n",
    "E = [0 for i in range(n)]\n",
    "T = [0 for i in range(n)]\n",
    "To = 2.0 * np.pi*np.sqrt(l/g)\n",
    "\n",
    "#Integrando\n",
    "inte = lambda x, c : 1.0 /(np.sqrt(np.cos(x)-np.cos(c)))\n",
    "\n",
    "for i in range(n):\n",
    "    \n",
    "    T1 = T0[i]\n",
    "    I[i] , E [i] = quad(inte, 0, T1, args=(T1))\n",
    "    T[i] = 4*np.sqrt(l/(2*g)) * I[i]\n",
    "       \n",
    "R=T/To\n",
    "\n",
    "Tg= (T0*180.0)/np.pi \n",
    "\n",
    "#Graph\n",
    "plt.plot(Tg, R, \"go\")\n",
    "plt.grid()\n",
    "plt.title(\"Error \")\n",
    "plt.xlabel(\"Angulo\")\n",
    "plt.ylabel(\"Razon entre periodos\")\n",
    "plt.axis([0,180,1,5])\n",
    "plt.show()\n"
   ]
  },
  {
   "cell_type": "code",
   "execution_count": null,
   "metadata": {
    "collapsed": true
   },
   "outputs": [],
   "source": []
  }
 ],
 "metadata": {
  "kernelspec": {
   "display_name": "Python 3",
   "language": "python",
   "name": "python3"
  },
  "language_info": {
   "codemirror_mode": {
    "name": "ipython",
    "version": 3
   },
   "file_extension": ".py",
   "mimetype": "text/x-python",
   "name": "python",
   "nbconvert_exporter": "python",
   "pygments_lexer": "ipython3",
   "version": "3.5.1"
  }
 },
 "nbformat": 4,
 "nbformat_minor": 0
}
