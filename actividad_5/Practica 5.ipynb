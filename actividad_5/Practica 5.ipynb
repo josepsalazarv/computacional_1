{
 "cells": [
  {
   "cell_type": "code",
   "execution_count": null,
   "metadata": {
    "collapsed": true
   },
   "outputs": [],
   "source": [
    "import numpy as np\n",
    "import matplotlib.pyplot as plt\n",
    "from scipy.integrate import odeint\n",
    "\n",
    "#Para definir las ecuaciones\n",
    "def pend(y, t, b, c):\n",
    "        theta, omega = y\n",
    "        dydt = (omega, -b*omega - c*np.sin(theta))\n",
    "        return dydt\n",
    "    \n",
    "#Propiedades de este pendulo   \n",
    "b = 0.25 #coef de amortiguamiento\n",
    "g= 9.8 #aceleracion de la gravedad\n",
    "l=2 #longitud de el pendulo\n",
    "c=g/l\n",
    "\n",
    "#Condiciones\n",
    "y0 = [np.pi/6 , 2 ]\n",
    "\n",
    "#Intervalo\n",
    "t = np.linspace(0, 20, 1000)\n",
    "\n",
    "#solucion \n",
    "sol = odeint(pend, y0, t, args=(b,c))\n",
    "\n",
    "#graficas\n",
    "plt.plot(t, sol[:, 0], 'b', label='theta(t)')\n",
    "plt.plot(t, sol[:, 1], 'g', label='omega(t)')\n",
    "plt.legend(loc='best')\n",
    "plt.xlabel('t')\n",
    "plt.grid()\n",
    "plt.show()"
   ]
  },
  {
   "cell_type": "code",
   "execution_count": null,
   "metadata": {
    "collapsed": true
   },
   "outputs": [],
   "source": []
  }
 ],
 "metadata": {
  "kernelspec": {
   "display_name": "Python 3",
   "language": "python",
   "name": "python3"
  },
  "language_info": {
   "codemirror_mode": {
    "name": "ipython",
    "version": 3
   },
   "file_extension": ".py",
   "mimetype": "text/x-python",
   "name": "python",
   "nbconvert_exporter": "python",
   "pygments_lexer": "ipython3",
   "version": "3.5.1"
  }
 },
 "nbformat": 4,
 "nbformat_minor": 0
}
